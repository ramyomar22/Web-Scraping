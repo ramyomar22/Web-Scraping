{
 "cells": [
  {
   "cell_type": "code",
   "execution_count": 8,
   "id": "53b56d25-7ae9-4e7b-a311-005c1356d1d8",
   "metadata": {},
   "outputs": [],
   "source": [
    "# import libraries\n",
    "import pandas as pd\n",
    "import dash\n",
    "from dash import dcc, html\n",
    "from dash.dependencies import Input, Output\n",
    "import plotly.express as px"
   ]
  },
  {
   "cell_type": "code",
   "execution_count": 9,
   "id": "5d7c8738-395b-4480-b613-f573e6429550",
   "metadata": {},
   "outputs": [],
   "source": [
    "# load data\n",
    "df = pd.read_csv('amazon_filtered.csv')"
   ]
  },
  {
   "cell_type": "code",
   "execution_count": 10,
   "id": "09f5e468-e1c2-4061-8e87-baf7c67752a8",
   "metadata": {},
   "outputs": [],
   "source": [
    "# intialize  the app.\n",
    "app = dash.Dash(__name__)"
   ]
  },
  {
   "cell_type": "code",
   "execution_count": 11,
   "id": "d0ab0022-444f-4026-a53c-faeaf3420772",
   "metadata": {},
   "outputs": [],
   "source": [
    "# layout of the app.\n",
    "app.layout = html.Div([\n",
    "    html.H1('Smartphone Data Dashboard'),\n",
    "    dcc.Graph(id='scatter-plot'),\n",
    "    dcc.Graph(id='histogram'),\n",
    "    dcc.Dropdown(\n",
    "        id='x-axis',\n",
    "        options=[{'label': col,'value': col} for col in df.columns],\n",
    "        value = 'price'\n",
    "    ),\n",
    "    dcc.Dropdown(\n",
    "        id = 'y-axis',\n",
    "        options=[{'label': col, 'value': col} for col in df.columns],\n",
    "        value='rating'\n",
    "    )\n",
    "])"
   ]
  },
  {
   "cell_type": "code",
   "execution_count": 12,
   "id": "d4ee1ec3-1bb7-43f3-95e6-dcda638ad82c",
   "metadata": {},
   "outputs": [],
   "source": [
    "# Callback to update the histogram based on dropdown selection\n",
    "@app.callback(\n",
    "    Output('scatter-plot', 'figure'),\n",
    "    [Input('x-axis', 'value'), Input('y-axis', 'value')]\n",
    ")\n",
    "def update_graph(x_axis, y_axis):\n",
    "    fig = px.scatter(df, x=x_axis, y=y_axis, title=f'{x_axis} vs {y_axis}')\n",
    "    return fig"
   ]
  },
  {
   "cell_type": "code",
   "execution_count": 13,
   "id": "881991c1-7da3-4aa3-b8a9-428b44190ed0",
   "metadata": {},
   "outputs": [],
   "source": [
    "# Callback to update the histogram based on dropdown selection\n",
    "@app.callback(\n",
    "    Output('histogram', 'figure'),\n",
    "    [Input('x-axis', 'value')]\n",
    ")\n",
    "def update_histogram(column):\n",
    "    fig = px.histogram(df, x=column, title=f'Distribution of {column}')\n",
    "    return fig"
   ]
  },
  {
   "cell_type": "code",
   "execution_count": 14,
   "id": "39269fb8-7515-4865-883d-f264eb2d2d43",
   "metadata": {},
   "outputs": [
    {
     "data": {
      "text/html": [
       "\n",
       "        <iframe\n",
       "            width=\"100%\"\n",
       "            height=\"650\"\n",
       "            src=\"http://127.0.0.1:8050/\"\n",
       "            frameborder=\"0\"\n",
       "            allowfullscreen\n",
       "            \n",
       "        ></iframe>\n",
       "        "
      ],
      "text/plain": [
       "<IPython.lib.display.IFrame at 0x22b43b69e10>"
      ]
     },
     "metadata": {},
     "output_type": "display_data"
    }
   ],
   "source": [
    "# Run the app\n",
    "if __name__ == '__main__':\n",
    "    app.run_server(debug=True)"
   ]
  },
  {
   "cell_type": "code",
   "execution_count": null,
   "id": "6bd58f48-4b57-49fe-86ff-ab32454e887b",
   "metadata": {},
   "outputs": [],
   "source": []
  }
 ],
 "metadata": {
  "kernelspec": {
   "display_name": "Python 3 (ipykernel)",
   "language": "python",
   "name": "python3"
  },
  "language_info": {
   "codemirror_mode": {
    "name": "ipython",
    "version": 3
   },
   "file_extension": ".py",
   "mimetype": "text/x-python",
   "name": "python",
   "nbconvert_exporter": "python",
   "pygments_lexer": "ipython3",
   "version": "3.11.7"
  }
 },
 "nbformat": 4,
 "nbformat_minor": 5
}
