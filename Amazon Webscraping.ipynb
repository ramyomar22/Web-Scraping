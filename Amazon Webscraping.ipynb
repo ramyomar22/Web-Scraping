{
 "cells": [
  {
   "cell_type": "code",
   "execution_count": 1,
   "id": "1f5e56d1-2056-4bf5-a456-e4e39d0ea4ec",
   "metadata": {},
   "outputs": [],
   "source": [
    "# import libraries we need.\n",
    "import requests \n",
    "from bs4 import BeautifulSoup\n",
    "import pandas as pd"
   ]
  },
  {
   "cell_type": "code",
   "execution_count": 2,
   "id": "7d9f7a67-246a-4d28-8cfb-83d429780dff",
   "metadata": {},
   "outputs": [],
   "source": [
    "def amazon(url):\n",
    "    '''\n",
    "    this function used to get products information from Amazon.\n",
    "    the information that this function can get:\n",
    "    - name of product.\n",
    "    - price.\n",
    "    - ratig.\n",
    "    - number of reviews.\n",
    "    '''\n",
    "    # connect to server and make request for url.\n",
    "    # Make a request to the website\n",
    "    headers = {\n",
    "        \"User-Agent\": \"Mozilla/5.0 (Windows NT 10.0; Win64; x64) AppleWebKit/537.36 (KHTML, like Gecko) Chrome/91.0.4472.124 Safari/537.36\"\n",
    "    }\n",
    "    response = requests.get(url, headers=headers)\n",
    "    if response.status_code == 200: # cheek if the connection request done.\n",
    "        # make the content of the html page readable.\n",
    "        soup = BeautifulSoup(response.content, 'html.parser')\n",
    "        # access the part that contain the products data.\n",
    "        products = soup.find_all('div',{'class':'sg-col-inner'})\n",
    "        # create a list to put the data in it.\n",
    "        data=[]\n",
    "        # for loop to get the information we need and put it in to the list.\n",
    "        for product in products:\n",
    "            name = product.find('span',{'class':'a-size-base-plus a-color-base a-text-normal'}).text if product.find('span',{'class':'a-size-base-plus a-color-base a-text-normal'}) else None\n",
    "            price = product.find('span',{'class':'a-price-whole'}).text.split('.')[0] if product.find('span',{'class':'a-price-whole'}) else None\n",
    "            rating = product.find('span',{'class':'a-icon-alt'}).text[0:3] if product.find('span',{'class':'a-icon-alt'}) else None\n",
    "            reviews = product.find('span',{'class':'a-size-base s-underline-text'}).text if product.find('span',{'class':'a-size-base s-underline-text'}) else None\n",
    "        \n",
    "            data.append({'name':name,'price':price,'rating':rating,'reviews':reviews})\n",
    "\n",
    "        df = pd.DataFrame(data)\n",
    "        return df \n",
    "    else :\n",
    "        print(\"connection faild\")"
   ]
  },
  {
   "cell_type": "code",
   "execution_count": 3,
   "id": "87f4d306-c8b5-4528-9659-5d496041e11f",
   "metadata": {},
   "outputs": [],
   "source": [
    "url1=\"https://www.amazon.eg/s?k=smartphones&qid=1717937456&ref=sr_pg_1\"\n",
    "url2=\"https://www.amazon.eg/s?k=smartphones&page=2&qid=1717937713&ref=sr_pg_2\"\n",
    "url3=\"https://www.amazon.eg/s?k=smartphones&page=3&qid=1717937750&ref=sr_pg_3\"\n",
    "url4=\"https://www.amazon.eg/s?k=smartphones&page=4&qid=1717937782&ref=sr_pg_4\"\n",
    "url5=\"https://www.amazon.eg/s?k=smartphones&page=4&qid=1717937782&ref=sr_pg_5\"\n",
    "url6=\"https://www.amazon.eg/s?k=smartphones&page=4&qid=1717937782&ref=sr_pg_6\"\n",
    "url7=\"https://www.amazon.eg/s?k=smartphones&page=4&qid=1717937782&ref=sr_pg_7\"\n",
    "url8=\"https://www.amazon.eg/s?k=smartphones&page=4&qid=1717937782&ref=sr_pg_8\"\n",
    "url9=\"https://www.amazon.eg/s?k=smartphones&page=4&qid=1717937782&ref=sr_pg_9\"\n",
    "url10=\"https://www.amazon.eg/s?k=smartphones&page=4&qid=1717937782&ref=sr_pg_10\""
   ]
  },
  {
   "cell_type": "code",
   "execution_count": 11,
   "id": "78726a64-c7af-441d-ae92-1b3147b59f66",
   "metadata": {},
   "outputs": [],
   "source": [
    "s1 = amazon(url1)"
   ]
  },
  {
   "cell_type": "code",
   "execution_count": 17,
   "id": "c7457d4a-26fe-4cbd-90a2-7c0e9a43958f",
   "metadata": {},
   "outputs": [],
   "source": [
    "s2=amazon(url2)"
   ]
  },
  {
   "cell_type": "code",
   "execution_count": 26,
   "id": "834799de-ad41-4aa2-a848-c46d1e36fe87",
   "metadata": {},
   "outputs": [],
   "source": [
    "s3= amazon(url3)"
   ]
  },
  {
   "cell_type": "code",
   "execution_count": 41,
   "id": "feed2caf-402a-4105-98f7-ae9ca25ad461",
   "metadata": {},
   "outputs": [],
   "source": [
    "s4= amazon(url4)"
   ]
  },
  {
   "cell_type": "code",
   "execution_count": 48,
   "id": "d679a3ee-aae8-4f25-ab4c-e8037641fb5e",
   "metadata": {},
   "outputs": [],
   "source": [
    "s5=amazon(url5)"
   ]
  },
  {
   "cell_type": "code",
   "execution_count": 58,
   "id": "7af7d0aa-3812-480b-86dc-c070bc4850c3",
   "metadata": {},
   "outputs": [],
   "source": [
    "s6 = amazon(url6)"
   ]
  },
  {
   "cell_type": "code",
   "execution_count": 71,
   "id": "26abcdd8-b4bd-4870-a418-fe47d5dbd6db",
   "metadata": {},
   "outputs": [],
   "source": [
    "s7=amazon(url7)"
   ]
  },
  {
   "cell_type": "code",
   "execution_count": 75,
   "id": "8f57ce82-0696-4336-9072-97d5eef2edb5",
   "metadata": {},
   "outputs": [],
   "source": [
    "s8 = amazon(url8)"
   ]
  },
  {
   "cell_type": "code",
   "execution_count": 82,
   "id": "399ca9c9-c0ea-4a0e-840c-7220789dc14f",
   "metadata": {},
   "outputs": [],
   "source": [
    "s9=amazon(url9)"
   ]
  },
  {
   "cell_type": "code",
   "execution_count": 84,
   "id": "3a970fbe-859a-4255-98d9-9d5335b25394",
   "metadata": {},
   "outputs": [],
   "source": [
    "s10=amazon(url10)"
   ]
  },
  {
   "cell_type": "code",
   "execution_count": 86,
   "id": "517a62bd-0d28-4689-9d42-ef93e9b0f00a",
   "metadata": {},
   "outputs": [
    {
     "data": {
      "text/plain": [
       "(590, 4)"
      ]
     },
     "execution_count": 86,
     "metadata": {},
     "output_type": "execute_result"
    }
   ],
   "source": [
    "df= pd.concat([s1,s2,s3,s4,s5,s6,s7,s8,s9,s10])\n",
    "df.shape"
   ]
  },
  {
   "cell_type": "code",
   "execution_count": 87,
   "id": "3fc9e184-b073-4366-87f2-dfc36516df92",
   "metadata": {},
   "outputs": [
    {
     "data": {
      "text/html": [
       "<div>\n",
       "<style scoped>\n",
       "    .dataframe tbody tr th:only-of-type {\n",
       "        vertical-align: middle;\n",
       "    }\n",
       "\n",
       "    .dataframe tbody tr th {\n",
       "        vertical-align: top;\n",
       "    }\n",
       "\n",
       "    .dataframe thead th {\n",
       "        text-align: right;\n",
       "    }\n",
       "</style>\n",
       "<table border=\"1\" class=\"dataframe\">\n",
       "  <thead>\n",
       "    <tr style=\"text-align: right;\">\n",
       "      <th></th>\n",
       "      <th>name</th>\n",
       "      <th>price</th>\n",
       "      <th>rating</th>\n",
       "      <th>reviews</th>\n",
       "    </tr>\n",
       "  </thead>\n",
       "  <tbody>\n",
       "    <tr>\n",
       "      <th>0</th>\n",
       "      <td>None</td>\n",
       "      <td>None</td>\n",
       "      <td>None</td>\n",
       "      <td>None</td>\n",
       "    </tr>\n",
       "    <tr>\n",
       "      <th>1</th>\n",
       "      <td>None</td>\n",
       "      <td>None</td>\n",
       "      <td>None</td>\n",
       "      <td>None</td>\n",
       "    </tr>\n",
       "    <tr>\n",
       "      <th>2</th>\n",
       "      <td>None</td>\n",
       "      <td>None</td>\n",
       "      <td>None</td>\n",
       "      <td>None</td>\n",
       "    </tr>\n",
       "    <tr>\n",
       "      <th>3</th>\n",
       "      <td>None</td>\n",
       "      <td>None</td>\n",
       "      <td>None</td>\n",
       "      <td>None</td>\n",
       "    </tr>\n",
       "    <tr>\n",
       "      <th>4</th>\n",
       "      <td>موبايل سمارت سامسونج جالاكسي A55 الجيل الخامس ...</td>\n",
       "      <td>18,599</td>\n",
       "      <td>3.9</td>\n",
       "      <td>61</td>\n",
       "    </tr>\n",
       "    <tr>\n",
       "      <th>5</th>\n",
       "      <td>موبايل سمارت سامسونج جالاكسي A55 الجيل الخامس ...</td>\n",
       "      <td>18,599</td>\n",
       "      <td>3.9</td>\n",
       "      <td>61</td>\n",
       "    </tr>\n",
       "    <tr>\n",
       "      <th>6</th>\n",
       "      <td>موبايل سامسونج جالاكسي A05 LTE، هاتف ذكي يعمل ...</td>\n",
       "      <td>4,500</td>\n",
       "      <td>3.8</td>\n",
       "      <td>86</td>\n",
       "    </tr>\n",
       "    <tr>\n",
       "      <th>7</th>\n",
       "      <td>موبايل ريدمي نوت 12 ثنائي شرائح الاتصال من شاو...</td>\n",
       "      <td>5,777</td>\n",
       "      <td>4.4</td>\n",
       "      <td>23,765</td>\n",
       "    </tr>\n",
       "    <tr>\n",
       "      <th>8</th>\n",
       "      <td>موبايل سامسونج جالاكسي A05 LTE بشريحتي اتصال، ...</td>\n",
       "      <td>5,199</td>\n",
       "      <td>3.7</td>\n",
       "      <td>17</td>\n",
       "    </tr>\n",
       "    <tr>\n",
       "      <th>9</th>\n",
       "      <td>موبايل سمارت سامسونج جالاكسي A55 الجيل الخامس ...</td>\n",
       "      <td>18,599</td>\n",
       "      <td>3.9</td>\n",
       "      <td>61</td>\n",
       "    </tr>\n",
       "    <tr>\n",
       "      <th>10</th>\n",
       "      <td>موبايل سامسونج جالاكسي A05s، يعمل بنظام اندروي...</td>\n",
       "      <td>5,299</td>\n",
       "      <td>4.0</td>\n",
       "      <td>188</td>\n",
       "    </tr>\n",
       "    <tr>\n",
       "      <th>11</th>\n",
       "      <td>موبايل سامسونج جالاكسي A05s، هاتف ذكي يعمل بنظ...</td>\n",
       "      <td>5,899</td>\n",
       "      <td>4.0</td>\n",
       "      <td>188</td>\n",
       "    </tr>\n",
       "    <tr>\n",
       "      <th>12</th>\n",
       "      <td>موبايل سامسونج جالاكسي A15، شريحتين اتصال، ذاك...</td>\n",
       "      <td>6,944</td>\n",
       "      <td>4.0</td>\n",
       "      <td>459</td>\n",
       "    </tr>\n",
       "    <tr>\n",
       "      <th>13</th>\n",
       "      <td>جوال سامسونج جالكسي ايه 05 ال تي اي، هاتف ذكي ...</td>\n",
       "      <td>4,800</td>\n",
       "      <td>3.8</td>\n",
       "      <td>31</td>\n",
       "    </tr>\n",
       "    <tr>\n",
       "      <th>14</th>\n",
       "      <td>اي تيل A70 رام 12 جيجا مع ذاكرة روم 256 وكامير...</td>\n",
       "      <td>5,200</td>\n",
       "      <td>4.0</td>\n",
       "      <td>124</td>\n",
       "    </tr>\n",
       "    <tr>\n",
       "      <th>15</th>\n",
       "      <td>موبايل سمارت سامسونج جالاكسي A55 الجيل الخامس ...</td>\n",
       "      <td>18,599</td>\n",
       "      <td>3.9</td>\n",
       "      <td>61</td>\n",
       "    </tr>\n",
       "    <tr>\n",
       "      <th>16</th>\n",
       "      <td>موبايل سامسونج جالاكسي A25 شبكة الجيل الخامس 5...</td>\n",
       "      <td>9,122</td>\n",
       "      <td>3.6</td>\n",
       "      <td>18</td>\n",
       "    </tr>\n",
       "    <tr>\n",
       "      <th>17</th>\n",
       "      <td>موبايل سامسونج جالاكسي A25 شبكة الجيل الخامس 5...</td>\n",
       "      <td>9,122</td>\n",
       "      <td>3.2</td>\n",
       "      <td>8</td>\n",
       "    </tr>\n",
       "    <tr>\n",
       "      <th>18</th>\n",
       "      <td>موبايل ريدمي نوت 12 بشريحتي اتصال بذاكرة RAM‏ ...</td>\n",
       "      <td>6,999</td>\n",
       "      <td>4.4</td>\n",
       "      <td>23,765</td>\n",
       "    </tr>\n",
       "    <tr>\n",
       "      <th>19</th>\n",
       "      <td>موبايل سامسونج جالاكسي S24 الترا بنظام أندرويد...</td>\n",
       "      <td>65,000</td>\n",
       "      <td>4.0</td>\n",
       "      <td>30</td>\n",
       "    </tr>\n",
       "  </tbody>\n",
       "</table>\n",
       "</div>"
      ],
      "text/plain": [
       "                                                 name   price rating reviews\n",
       "0                                                None    None   None    None\n",
       "1                                                None    None   None    None\n",
       "2                                                None    None   None    None\n",
       "3                                                None    None   None    None\n",
       "4   موبايل سمارت سامسونج جالاكسي A55 الجيل الخامس ...  18,599    3.9      61\n",
       "5   موبايل سمارت سامسونج جالاكسي A55 الجيل الخامس ...  18,599    3.9      61\n",
       "6   موبايل سامسونج جالاكسي A05 LTE، هاتف ذكي يعمل ...   4,500    3.8      86\n",
       "7   موبايل ريدمي نوت 12 ثنائي شرائح الاتصال من شاو...   5,777    4.4  23,765\n",
       "8   موبايل سامسونج جالاكسي A05 LTE بشريحتي اتصال، ...   5,199    3.7      17\n",
       "9   موبايل سمارت سامسونج جالاكسي A55 الجيل الخامس ...  18,599    3.9      61\n",
       "10  موبايل سامسونج جالاكسي A05s، يعمل بنظام اندروي...   5,299    4.0     188\n",
       "11  موبايل سامسونج جالاكسي A05s، هاتف ذكي يعمل بنظ...   5,899    4.0     188\n",
       "12  موبايل سامسونج جالاكسي A15، شريحتين اتصال، ذاك...   6,944    4.0     459\n",
       "13  جوال سامسونج جالكسي ايه 05 ال تي اي، هاتف ذكي ...   4,800    3.8      31\n",
       "14  اي تيل A70 رام 12 جيجا مع ذاكرة روم 256 وكامير...   5,200    4.0     124\n",
       "15  موبايل سمارت سامسونج جالاكسي A55 الجيل الخامس ...  18,599    3.9      61\n",
       "16  موبايل سامسونج جالاكسي A25 شبكة الجيل الخامس 5...   9,122    3.6      18\n",
       "17  موبايل سامسونج جالاكسي A25 شبكة الجيل الخامس 5...   9,122    3.2       8\n",
       "18  موبايل ريدمي نوت 12 بشريحتي اتصال بذاكرة RAM‏ ...   6,999    4.4  23,765\n",
       "19  موبايل سامسونج جالاكسي S24 الترا بنظام أندرويد...  65,000    4.0      30"
      ]
     },
     "execution_count": 87,
     "metadata": {},
     "output_type": "execute_result"
    }
   ],
   "source": [
    "df.head(20)"
   ]
  },
  {
   "cell_type": "code",
   "execution_count": 88,
   "id": "a6aa2ffc-11cf-471c-8a50-f312b2c25f2c",
   "metadata": {},
   "outputs": [],
   "source": [
    "df.to_csv('amazon.csv',index=False)"
   ]
  },
  {
   "cell_type": "code",
   "execution_count": null,
   "id": "419bf59c-c707-408d-b8e9-ec2b4f4c6325",
   "metadata": {},
   "outputs": [],
   "source": []
  }
 ],
 "metadata": {
  "kernelspec": {
   "display_name": "Python 3 (ipykernel)",
   "language": "python",
   "name": "python3"
  },
  "language_info": {
   "codemirror_mode": {
    "name": "ipython",
    "version": 3
   },
   "file_extension": ".py",
   "mimetype": "text/x-python",
   "name": "python",
   "nbconvert_exporter": "python",
   "pygments_lexer": "ipython3",
   "version": "3.11.7"
  }
 },
 "nbformat": 4,
 "nbformat_minor": 5
}
